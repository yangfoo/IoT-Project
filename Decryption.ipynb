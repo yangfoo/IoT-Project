{
 "cells": [
  {
   "cell_type": "code",
   "execution_count": 1,
   "metadata": {
    "id": "W-rNkSm50BoJ",
    "pycharm": {
     "name": "#%%\n"
    }
   },
   "outputs": [],
   "source": [
    "def convert(s):\n",
    "    # initialization of string to \"\"\n",
    "    new = \"\"\n",
    "    # traverse in the string\n",
    "    for x in s:\n",
    "        new += x\n",
    "    # return string\n",
    "    return new"
   ]
  },
  {
   "cell_type": "code",
   "execution_count": 2,
   "metadata": {
    "id": "cvCIBiFD0FIN",
    "pycharm": {
     "name": "#%%\n"
    }
   },
   "outputs": [],
   "source": [
    "def CaesarDecryption(realText, step):\n",
    "\toutText = []\n",
    "\tcryptText = []\n",
    "\tuppercase = ['A', 'B', 'C', 'D', 'E', 'F', 'G', 'H', 'I', 'J', 'K', 'L', 'M', 'N', 'O', 'P', 'Q', 'R', 'S', 'T', 'U', 'V', 'W', 'X', 'Y', 'Z']\n",
    "\tlowercase = ['a', 'b', 'c', 'd', 'e', 'f', 'g', 'h', 'i', 'j', 'k', 'l', 'm', 'n', 'o', 'p', 'q', 'r', 's', 't', 'u', 'v', 'w', 'x', 'y', 'z']\n",
    "\tnumber = ['0', '1', '2', '3', '4', '5', '6', '7', '8', '9']\n",
    "\tsymbol = ['~','!','@','#','$','%','^','&','*','(',')','-','_','=','+','{','}','[',']','|',':','/','?',',','.','<','>',' ']\n",
    "\tfor eachLetter in realText:\n",
    "\t\tif eachLetter in uppercase:\n",
    "\t\t\tindex = uppercase.index(eachLetter)\n",
    "\t\t\tcrypting = (index - step) % 26\n",
    "\t\t\tcryptText.append(crypting)\n",
    "\t\t\tnewLetter = uppercase[crypting]\n",
    "\t\t\toutText.append(newLetter)\n",
    "\t\telif eachLetter in lowercase:\n",
    "\t\t\tindex = lowercase.index(eachLetter)\n",
    "\t\t\tcrypting = (index - step) % 26\n",
    "\t\t\tcryptText.append(crypting)\n",
    "\t\t\tnewLetter = lowercase[crypting]\n",
    "\t\t\toutText.append(newLetter)\n",
    "\t\telif eachLetter in number:\n",
    "\t\t\tindex = number.index(eachLetter)\n",
    "\t\t\tcrypting = (index - step) % 10\n",
    "\t\t\tcryptText.append(crypting)\n",
    "\t\t\tnewLetter = number[crypting]\n",
    "\t\t\toutText.append(newLetter)\n",
    "\t\telif eachLetter in symbol:\n",
    "\t\t\tindex = symbol.index(eachLetter)\n",
    "\t\t\tcrypting = (index - step) % 28\n",
    "\t\t\tcryptText.append(crypting)\n",
    "\t\t\tnewLetter = symbol[crypting]\n",
    "\t\t\toutText.append(newLetter)\t\n",
    "\treturn convert(outText)"
   ]
  },
  {
   "cell_type": "code",
   "execution_count": 3,
   "metadata": {
    "id": "muu3EL1D0Flk",
    "pycharm": {
     "name": "#%%\n"
    }
   },
   "outputs": [],
   "source": [
    "def MirrorDecryption(string):\n",
    "  translated = '' #cipher text is stored in this variable\n",
    "  i = len(string) - 1\n",
    "\n",
    "  while i >= 0:\n",
    "    translated = translated + string[i]\n",
    "    i = i - 1\n",
    "  return translated"
   ]
  },
  {
   "cell_type": "code",
   "execution_count": 4,
   "metadata": {
    "id": "8xOjob1O0GkU",
    "pycharm": {
     "name": "#%%\n"
    }
   },
   "outputs": [],
   "source": [
    "def Hybird_decryption(string, step = 3):\n",
    "  Decrypted3 = MirrorDecryption(string)\n",
    "  Decrypted4 = CaesarDecryption(Decrypted3, step)\n",
    "  print(\"After Decryption  :\" + Decrypted4)\n",
    "  return (Decrypted4)"
   ]
  },
  {
   "cell_type": "code",
   "execution_count": 5,
   "metadata": {
    "colab": {
     "base_uri": "https://localhost:8080/"
    },
    "id": "U7MwNnc72kCF",
    "outputId": "5edca174-9785-499d-e7a8-302085ce67a5",
    "pycharm": {
     "name": "#%%\n"
    }
   },
   "outputs": [
    {
     "name": "stdout",
     "output_type": "stream",
     "text": [
      "Enter OTP code: 136659\n",
      "After Decryption  :623308\n",
      "Username is: 623308\n"
     ]
    }
   ],
   "source": [
    "decryption = input(\"Enter OTP code: \")\n",
    "encryption = Hybird_decryption(decryption)"
   ]
  }
 ],
 "metadata": {
  "colab": {
   "collapsed_sections": [],
   "provenance": []
  },
  "kernelspec": {
   "display_name": "Python 3",
   "name": "python3"
  },
  "language_info": {
   "name": "python"
  }
 },
 "nbformat": 4,
 "nbformat_minor": 0
}